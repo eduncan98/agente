{
 "cells": [
  {
   "cell_type": "code",
   "execution_count": 9,
   "id": "e4d9b1d5-c17c-41d7-8c95-9a28d405854b",
   "metadata": {},
   "outputs": [],
   "source": [
    "# ask_agent.py\n",
    "\n",
    "from langchain_huggingface.embeddings import HuggingFaceEmbeddings\n",
    "from langchain_community.vectorstores import FAISS\n",
    "from langchain_openai import ChatOpenAI\n",
    "from langchain.chains import RetrievalQA\n",
    "from langchain.prompts import PromptTemplate\n",
    "import os\n",
    "import sys\n",
    "from dotenv import load_dotenv\n",
    "\n",
    "os.environ[\"TOKENIZERS_PARALLELISM\"] = \"false\"\n",
    "\n",
    "# === CONFIGURACIÓN ===\n",
    "INDEX_FAISS = \"faiss_tspec\"\n",
    "MODELO_EMBEDDINGS = \"sentence-transformers/all-MiniLM-L6-v2\"\n",
    "\n",
    "load_dotenv()\n",
    "OPENAI_API_KEY = os.getenv(\"OPENAI_API_KEY\")\n",
    "\n",
    "if not OPENAI_API_KEY:\n",
    "    print(\"❌ ERROR: No se encontró OPENAI_API_KEY en el archivo .env.\")\n",
    "    sys.exit(1)\n",
    "\n",
    "def cargar_faiss():\n",
    "    print(\"📂 Cargando FAISS existente...\")\n",
    "    embeddings = HuggingFaceEmbeddings(model_name=MODELO_EMBEDDINGS)\n",
    "    db = FAISS.load_local(INDEX_FAISS, embeddings, allow_dangerous_deserialization=True)\n",
    "    return db\n",
    "\n",
    "def crear_agente(db):\n",
    "    print(\"🤖 Inicializando agente...\")\n",
    "    os.environ[\"OPENAI_API_KEY\"] = OPENAI_API_KEY\n",
    "    llm = ChatOpenAI(model_name=\"gpt-4\", temperature=0)\n",
    "    retriever = db.as_retriever(search_type=\"mmr\", search_kwargs={\"k\":5})\n",
    "    chain = RetrievalQA.from_chain_type(llm=llm, retriever=retriever, return_source_documents=True)\n",
    "    return chain\n",
    "\n",
    "def hacer_pregunta(chain):\n",
    "    print(\"\\n💬 Agente listo. Escribe tu pregunta técnica (o 'salir'):\")\n",
    "    while True:\n",
    "        query = input(\"🧠> \").strip()\n",
    "        if query.lower() == \"salir\":\n",
    "            break\n",
    "\n",
    "        # Ejecutar la cadena\n",
    "        resultado = chain.invoke({\"query\": query})\n",
    "        context = \"\\n\\n\".join([doc.page_content[:5000] for doc in resultado['source_documents'][:5]])\n",
    "\n",
    "        # Generar el prompt real que fue usado\n",
    "        template = \"\"\"Usa el siguiente contexto técnico para responder la pregunta.\n",
    "\n",
    "Contexto:\n",
    "---------\n",
    "{context}\n",
    "\n",
    "Pregunta:\n",
    "---------\n",
    "{question}\n",
    "\n",
    "Respuesta:\"\"\"\n",
    "\n",
    "        prompt = PromptTemplate.from_template(template)\n",
    "        full_prompt = prompt.format(context=context, question=query)\n",
    "\n",
    "        print(\"\\n📄 Prompt enviado al LLM:\\n\")\n",
    "        print(full_prompt)\n",
    "        print(\"\\n📘 Respuesta:\\n\")\n",
    "        print(resultado['result'])\n",
    "        print()"
   ]
  },
  {
   "cell_type": "code",
   "execution_count": 10,
   "id": "edfd2dc4-0155-486d-9d33-6d9aa6a03bb4",
   "metadata": {},
   "outputs": [
    {
     "name": "stdout",
     "output_type": "stream",
     "text": [
      "📂 Cargando FAISS existente...\n"
     ]
    }
   ],
   "source": [
    "db = cargar_faiss()"
   ]
  },
  {
   "cell_type": "code",
   "execution_count": 11,
   "id": "f82095f5-a71a-4427-86bc-6c1b2bfae1ff",
   "metadata": {},
   "outputs": [
    {
     "name": "stdout",
     "output_type": "stream",
     "text": [
      "🤖 Inicializando agente...\n"
     ]
    }
   ],
   "source": [
    "agente = crear_agente(db)"
   ]
  },
  {
   "cell_type": "code",
   "execution_count": 12,
   "id": "631f3047-358d-4041-8f29-fb89fa1e2b50",
   "metadata": {},
   "outputs": [
    {
     "name": "stdout",
     "output_type": "stream",
     "text": [
      "\n",
      "--- Documento 1 ---\n",
      "\\- means to handle different versions of application part\n",
      "implementations and protocol errors (error indication).\n",
      "\n",
      "#### 19.2.1.9 MME Load balancing Function\n",
      "\n",
      "MME Load balancing is the function which achieves load-balanced MMEs\n",
      "with respect to their processing capacity within a pool area during\n",
      "system operation. The means to load-balance MMEs is to distribute UEs\n",
      "newly entering the pool to different MMEs in the MME pool. In addition\n",
      "the MME load balancing function is able to achieve equally loaded MMEs\n",
      "within a pool area after the introduction of a new MME and after the\n",
      "removal of a MME from the network.\n",
      "\n",
      "--- Documento 2 ---\n",
      "|           |                                                       |   |   |   |   |   |   |   |\n",
      "| Octet m+2 | \\-                                                    |   |   |   |   |   |   |   |\n",
      "|           |                                                       |   |   |   |   |   |   |   |\n",
      "| \\-        | Rightmost character of the last label of the MME Name |   |   |   |   |   |   |   |\n",
      "|           |                                                       |   |   |   |   |   |   |   |\n",
      "| Octet 57  |                                                       |   |   |   |   |   |   |   |\n",
      "+-----------+-------------------------------------------------------+---+---+---+---+---+---+---+\n",
      "\n",
      "--- Documento 3 ---\n",
      "The MExE MMI, in turn, is the interface available to the user to support\n",
      "MExE services and functionality on the MExE device. The nature of the\n",
      "MExE MMI interface, like the normal MExE device interface described\n",
      "above, is not standardised in any way, to allow for manufacturer\n",
      "innovation, cater for evolving market needs, and permit manufacturer\n",
      "differentiation. The MExE MMI, depending on different manufacturer\n",
      "implementations, may consist of the normal MExE device interface, the\n",
      "normal MExE device interface with modifications, a different interface\n",
      "to the normal MExE device interface, or some combinations thereof etc.\n",
      "MExE services operate within, and using the capabilities of, the MExE\n",
      "MMI.\n"
     ]
    }
   ],
   "source": [
    "docs = agente.retriever.invoke(\"what is an MME?\")\n",
    "for i, doc in enumerate(docs[:3]):\n",
    "    print(f\"\\n--- Documento {i+1} ---\\n{doc.page_content[:1000]}\")"
   ]
  },
  {
   "cell_type": "code",
   "execution_count": null,
   "id": "7bab7105-d076-4455-b3cb-3aae65d1b390",
   "metadata": {},
   "outputs": [],
   "source": []
  }
 ],
 "metadata": {
  "kernelspec": {
   "display_name": "Python 3 (ipykernel)",
   "language": "python",
   "name": "python3"
  },
  "language_info": {
   "codemirror_mode": {
    "name": "ipython",
    "version": 3
   },
   "file_extension": ".py",
   "mimetype": "text/x-python",
   "name": "python",
   "nbconvert_exporter": "python",
   "pygments_lexer": "ipython3",
   "version": "3.12.0"
  }
 },
 "nbformat": 4,
 "nbformat_minor": 5
}
